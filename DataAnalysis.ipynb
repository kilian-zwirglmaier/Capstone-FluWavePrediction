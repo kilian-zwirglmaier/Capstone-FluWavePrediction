{
 "cells": [
  {
   "cell_type": "code",
   "execution_count": null,
   "metadata": {},
   "outputs": [],
   "source": [
    "%matplotlib inline\n",
    "from matplotlib import pyplot as plt\n",
    "import seaborn as sns\n",
    "import pandas as pd\n",
    "import datetime"
   ]
  },
  {
   "cell_type": "markdown",
   "metadata": {},
   "source": [
    "# WHO - global influenza occurences\n",
    "The WHO reports Influenza occurences for all around the world on a weekly basis. It is expected that due to spreading patterns of influenza waves throughout the world, influenza waves different countries can be used as an indicator for the prediction of influenza waves for Germany. The data for the **Influenza transmission zone** South West Europe is analysed below \n",
    "\n",
    "Note: The influenza transmission zones join geographically related countries or territories to larger areas that have similar influenza transmission patterns so that an overview can be given. www.who.int/csr/.../swineflu/Influenza_Transmission_Zones.pdf\n"
   ]
  },
  {
   "cell_type": "code",
   "execution_count": null,
   "metadata": {},
   "outputs": [],
   "source": [
    "df_who_global = pd.read_csv('FluNetInteractiveReport.csv',skiprows=3,parse_dates=['SDATE','EDATE']).fillna(value = 0)\n",
    "df_who_global.head()\n"
   ]
  },
  {
   "cell_type": "code",
   "execution_count": null,
   "metadata": {},
   "outputs": [],
   "source": [
    "print(list(df_who_global))\n",
    "\n",
    "start_date_plot='2009-08-01'\n",
    "end_date_plot='2010-03-03'\n",
    "countries=['United Kingdom of Great Britain and Northern Ireland','Germany','Spain']\n",
    "\n",
    "df_2years_G_F_I = df_who_global.loc[df_who_global['Country'].isin(countries)&(df_who_global['SDATE']>=start_date_plot)&(df_who_global['EDATE']<=end_date_plot)]\n",
    "\n",
    "df_2years_G_F_I.set_index('SDATE',inplace=True)\n",
    "fig = plt.figure()\n",
    "df_2years_G_F_I.groupby('Country')['ALL_INF'].plot(legend = True)\n",
    "\n",
    "plt.xlabel('date')\n",
    "plt.ylabel('# of Influenza cases reported to WHO \\n by individual countries')\n",
    "\n",
    "#plt.savefig('InfluenzaDetectionsOverTime_France_Germany_Italy.eps')\n"
   ]
  },
  {
   "cell_type": "code",
   "execution_count": null,
   "metadata": {},
   "outputs": [],
   "source": [
    "df_inf_per_state_full=df_who_global.pivot(index='EDATE', columns='Country', values='ALL_INF')\n",
    "df_inf_per_state_full.rename(columns={'United Kingdom of Great Britain and Northern Ireland':'UK'}, inplace=True)\n",
    "\n",
    "df_inf_per_state_full.index = pd.to_datetime(df_inf_per_state_full.index)\n",
    "\n",
    "print(list(df_inf_per_state_full))\n",
    "df_inf_per_state_full.tail()"
   ]
  },
  {
   "cell_type": "markdown",
   "metadata": {},
   "source": [
    "## RKI - Influenza occurances in Germany\n",
    "\n",
    "In this section, the data from Robert Koch Institute about activity of Influenza virus in Germany is analysed (https://survstat.rki.de/Content/Query/Create.aspx). The data are published on weekly basis from year 2001. Every year, samples from patients with influenza-like illness are investigated, which are sent by the sentinel network of general practitioners and paediatricians. Only direct detection of influenza virus is notifiable to RKI.\n",
    "The data are available for all German states (as shown in the figure below), even a finer granularity is available (county level) but wont be used in this analysis."
   ]
  },
  {
   "cell_type": "code",
   "execution_count": null,
   "metadata": {},
   "outputs": [],
   "source": [
    "df_RKI_states = pd.read_csv('RKI_INV_0418_season_comma.csv', sep=';',skiprows=1).fillna(value = 0)\n",
    "df_RKI_states.set_index('enddate',inplace=True)\n",
    "df_RKI_states.index = pd.to_datetime(df_RKI_states.index)\n",
    "df_RKI_states['Germany_sum'] = df_RKI_states['Germany_sum'].astype(float)\n",
    "#print(type(df_RKI_states.loc['2001-01-14','Bavaria']))\n",
    "df_RKI_states=df_RKI_states.drop(['Season year and week (40)'], axis=1)\n",
    "df_RKI_states"
   ]
  },
  {
   "cell_type": "code",
   "execution_count": null,
   "metadata": {},
   "outputs": [],
   "source": [
    "start_date_plot=datetime.datetime(2013,12,1)\n",
    "end_date_plot=datetime.datetime(2016,5,4)\n",
    "\n",
    "df_RKI_states.loc[start_date_plot:end_date_plot].plot(y=['Bavaria', 'Baden-Wuerttemberg', 'Berlin','Hessen'])\n",
    "plt.xlabel('date')\n",
    "plt.ylabel('# detected Influenza cases')\n",
    "plt.legend()\n",
    "plt.show()"
   ]
  },
  {
   "cell_type": "markdown",
   "metadata": {},
   "source": [
    "The number of detected influenza cases reported by RKI with cases reported to WHO from Germany (both on weekly basis) are compared in the following. A significant discrepancy between these two quantities can be observed (the number of cases reported to WHO being significantly lower than detected cases reported on the RKI website). Additionally, a clear trend can be observed in both timeseries: while the number of cases reported to WHO is decreaseng in time, the number of influenza positive samples reported by RKI is increasing.\n",
    "\n",
    "The dicrepansy between these sources of data was not investigated further, we decided to use the RKI data for the further analysis. Hoverer, the increasing trend in the RKI data needs to be explained: Does it reflect an increasing magnitude of flu waves in the recent years or just a higher detection of influenza viruses (through more samples investigated and recorded in the RKI database)?"
   ]
  },
  {
   "cell_type": "code",
   "execution_count": null,
   "metadata": {},
   "outputs": [],
   "source": [
    "start_date_plot=datetime.datetime(1995,12,1)\n",
    "end_date_plot=datetime.datetime(2018,3,23)\n",
    "\n",
    "WHO_RKI=pd.DataFrame()\n",
    "WHO_RKI['Germany WHO'] = df_inf_per_state_full.loc[start_date_plot:end_date_plot,'Germany']\n",
    "WHO_RKI['Germany RKI']=df_RKI_states.loc[start_date_plot:end_date_plot,'Germany_sum']\n",
    "#WHO_RKI.plot(secondary_y=['Germany WHO'])\n",
    "#plt.xlabel('date')\n",
    "#plt.ylabel('# detected Influenza cases')\n",
    "\n",
    "\n",
    "fig, ax1 = plt.subplots()\n",
    "ax2 = ax1.twinx()\n",
    "\n",
    "color = 'tab:red'\n",
    "ax1.plot(WHO_RKI.index, WHO_RKI['Germany RKI'], color=color)\n",
    "ax1.set_xlabel('year')\n",
    "ax1.set_ylabel('# detected Influenza cases by RKI', color=color)\n",
    "ax1.tick_params(axis='y', labelcolor=color)\n",
    "\n",
    "\n",
    "color = 'tab:blue'\n",
    "ax2.plot(WHO_RKI.index, WHO_RKI['Germany WHO'], color=color)\n",
    "ax2.set_ylabel('# Influenza cases reported to WHO', color=color)\n",
    "ax2.tick_params(axis='y', labelcolor=color)\n",
    "\n",
    "#fig.tight_layout()  # otherwise the right y-label is slightly clipped\n",
    "plt.show()\n",
    "\n",
    "\n",
    "\n",
    "print('corr.coef: ' + str(WHO_RKI['Germany RKI'].corr(WHO_RKI['Germany WHO'])))\n"
   ]
  },
  {
   "cell_type": "markdown",
   "metadata": {},
   "source": [
    "The increasing trend in the RKI data (number of detected Influenza cases) needs to be explained: Does it reflect an increasing magnitude of flu waves in the recent years or just a higher detection of influenza viruses (through more samples investigated and recorded in the RKI database)? \n",
    "\n",
    "To clarify this, the RKI seasonal estimates of doctor visits associated with flu waves were investigated. These are considered to be the best available quantities for representation of the real magnitude of flu waves in Germany and, ultimately, for predicting the number of incoming flu-associated claims. \n",
    "\n",
    "RKI provides estimates of excess-doctor visits (Exzess-Konsultationen), excess hospitalisations (Exzess-Hospitalisierungen) and other summary statistics that can be associated with the influenza wave for each season within the Influenza season reports (https://influenza.rki.de/Saisonbericht.aspx). These data are only provided once per year after the end of the season and cannot thus be used for the real-time prediction. Note that the following data were extracted by hand from the reports and can thus be subject to human error. "
   ]
  },
  {
   "cell_type": "code",
   "execution_count": null,
   "metadata": {},
   "outputs": [],
   "source": [
    "RKI_season_summary = pd.read_excel('RKI-Seasonal_reports_summary.xlsx',skiprows=1)\n",
    "RKI_season_summary=RKI_season_summary.set_index('end_y')\n",
    "RKI_season_summary.tail()"
   ]
  },
  {
   "cell_type": "markdown",
   "metadata": {},
   "source": [
    "In the following, the correlation between doctor consultations ('Exzess-Konsultationen') and selected quantities are calculated and plotted. A very strong correlation with unability to work (Exzess-Arbeitsunfaehigkeiten) and hospitalisations can be observed. Also duration of the flu wave is positively correlated with the number of doctor consultations. "
   ]
  },
  {
   "cell_type": "code",
   "execution_count": null,
   "metadata": {},
   "outputs": [],
   "source": [
    "df_corr_summary=pd.DataFrame(index=['corr_coef'])\n",
    "check=['duration', 'end_w','Exzess-Arbeitsunfaehigkeiten bzw. Pflegebeduerftigkeit bei Kindern und nicht Berufstaetigen', 'Exzess-Hospitalisierungen']\n",
    "\n",
    "i=0\n",
    "for c in RKI_season_summary.loc[:,check]:\n",
    "    df_corr_summary[check[i]]=RKI_season_summary.loc[:,'Exzess-Konsultationen'].corr(RKI_season_summary.loc[:,check[i]])\n",
    "    i+=1\n",
    "\n",
    "#RKI_season_summary.loc[:,'Exzess-Konsultationen'].corr(RKI_season_summary.loc[:,check[2]])\n",
    "df_corr_summary"
   ]
  },
  {
   "cell_type": "code",
   "execution_count": null,
   "metadata": {},
   "outputs": [],
   "source": [
    "RKI_season_plot=RKI_season_summary.loc[:,['peak_date','Exzess-Konsultationen', 'Exzess-Hospitalisierungen']]\n",
    "RKI_season_plot.set_index('peak_date',inplace=True)\n",
    "\n",
    "RKI_season_plot.plot.bar(secondary_y=['Exzess-Hospitalisierungen'])\n",
    "\n",
    "print('corr.coef: ' + str(RKI_season_plot['Exzess-Konsultationen'].corr(RKI_season_plot['Exzess-Hospitalisierungen'])))"
   ]
  },
  {
   "cell_type": "markdown",
   "metadata": {},
   "source": [
    "Finally, the estimated number of consultations due to influenza ('Exzess-Konsultationen') and the number of detected influenza cases (on samples investigated in the laboratories) reported to RKI are compared. The increasing number of detected cases over time (plotted in blue bars) is not due to actual worsening of the flu waves (no trend can be observed in the red bars), but rather due to a higher detection rate (more samples investigated and reported to RKI). "
   ]
  },
  {
   "cell_type": "code",
   "execution_count": null,
   "metadata": {},
   "outputs": [],
   "source": [
    "start_date_season=[12,1]\n",
    "end_date_season=[4,30]\n",
    "\n",
    "years_end=[str(e) for e in range(2003,2018,1)]\n",
    "\n",
    "df_RKI_seasonsum=pd.DataFrame(index=years_end,columns=['RKI-Exzess-Konsultationen', 'RKI-detected influenza cases (from samples)', 'detection rate']).astype(float)\n",
    "for y in years_end:\n",
    "    start_date=datetime.datetime(int(y)-1,start_date_season[0],start_date_season[1])\n",
    "    end_date=datetime.datetime(int(y),end_date_season[0],end_date_season[1])\n",
    "    df_RKI_seasonsum.loc[y, 'RKI-Exzess-Konsultationen'] =RKI_season_summary.loc[int(y),'Exzess-Konsultationen']\n",
    "    df_RKI_seasonsum.loc[y, 'RKI-detected influenza cases (from samples)'] =sum(df_RKI_states.loc[start_date:end_date,'Germany_sum'])\n",
    "    df_RKI_seasonsum.loc[y, 'detection rate'] =df_RKI_seasonsum.loc[y, 'RKI-detected influenza cases (from samples)']/df_RKI_seasonsum.loc[y, 'RKI-Exzess-Konsultationen']\n",
    "\n",
    "fig, ax1 = plt.subplots()\n",
    "ax2 = ax1.twinx()\n",
    "ind = df_RKI_seasonsum.index.astype(int)\n",
    "width = 0.35\n",
    "\n",
    "color = 'tab:red'\n",
    "ax1.bar(ind, df_RKI_seasonsum['RKI-Exzess-Konsultationen'],width, color=color)\n",
    "#ax1.set_xticks(years_end)\n",
    "ax1.set_xlabel('year')\n",
    "ax1.set_ylabel('# RKI-Exzess-Konsultationen \\n (annual total)', color=color)\n",
    "ax1.tick_params(axis='y', labelcolor=color)\n",
    "ax1.tick_params(axis='x', rotation=90)\n",
    "\n",
    "\n",
    "color = 'tab:blue'\n",
    "ax2.bar(ind+width, df_RKI_seasonsum['RKI-detected influenza cases (from samples)'],width , color=color)\n",
    "ax2.set_ylabel('# RKI - detected Influenza cases \\n (annual total)', color=color)\n",
    "ax2.tick_params(axis='y', labelcolor=color)\n",
    "\n",
    "\n",
    "plt.show()    \n",
    "    \n",
    "    \n",
    "    \n",
    "print('corr.coef: ' + str(df_RKI_seasonsum.loc[:, 'RKI-Exzess-Konsultationen'] .corr(df_RKI_seasonsum.loc[:, 'RKI-detected influenza cases (from samples)'])))    \n",
    "df_RKI_seasonsum"
   ]
  },
  {
   "cell_type": "markdown",
   "metadata": {},
   "source": [
    "The detection ratio (=RKI-detected influenza cases/RKI-Exzess-Konsultationen) more or less steadily increases form 0.002 in 2003 to 0.02 in 2017. "
   ]
  },
  {
   "cell_type": "code",
   "execution_count": null,
   "metadata": {},
   "outputs": [],
   "source": [
    "df_RKI_seasonsum.plot.bar(df_RKI_seasonsum.index,['detection rate'])\n",
    "plt.ylabel('detection rate \\n = detected cases / Exzess-Konsultationen')\n",
    "plt.xlabel('year')"
   ]
  },
  {
   "cell_type": "markdown",
   "metadata": {},
   "source": [
    "It can be concluded, that the number of detected influenza cases, as reported by RKI on weekly basis, cannot be directly used as predictor for the number of doctor visits (and, ultimately, for prediction of number of claims) because the detection rate increases in time. Without taking into account the increasing detection rate, the magnitude of the future flu waves would likely be overestimated.\n",
    "\n",
    "One could think about using the \"praxis index\" or \"ARE-Konsultationen per 100000 Einwohner\" for prediction, but they don't seem to be available in the required frequency and format by RKI. However, this might be further investigated as they obviously also collect this data on weekly basis... (query to RKI?)\n",
    "https://influenza.rki.de/Diagrams.aspx?agiRegion=0"
   ]
  },
  {
   "cell_type": "markdown",
   "metadata": {},
   "source": [
    "## Weather data\n",
    "\n",
    "Wheather data from Deutscher Wetterdienst (DWD) available at (ftp://ftp-cdc.dwd.de/pub/CDC/observations_germany/climate/daily/kl/historical/). Data from station München-Stadt were used for the analysis. They are available from year 1954 until the end of 2016 (the station is operating until now but the downloaded data end at the end of 2017).\n",
    "\n",
    "The daily mean temperature in °C (TMK) and daily mean of relative humidity in % (UPM) were included in this analysis. These variables were selected because studies showed that it is mainly the cold and dry air that helps spreading influenza viruses (Lowen, A.C. and Steel, J. 2014. Roles of Humidity and Temperature in Shaping Influenza Seasonality)(Davis, R.E, Rossier, C.E., Enfield, K.B. 2012. The Impact of Weather on Influenza and Pneumonia Mortality in New York City, 1975–2002: A Retrospective Study). "
   ]
  },
  {
   "cell_type": "code",
   "execution_count": null,
   "metadata": {},
   "outputs": [],
   "source": [
    "df_weather_row = pd.read_csv('produkt_klima_tag_19540601_20161231_03379.txt', sep=';')\n",
    "\n",
    "df_weather_row=df_weather_row.set_index(['MESS_DATUM'])\n",
    "df_weather_row.index = pd.to_datetime(df_weather_row.index, format='%Y%m%d')\n",
    "df_weather_row=df_weather_row.replace(-999, np.nan)\n",
    "\n",
    "print(list(df_weather_row))\n",
    "df_weather_row\n"
   ]
  },
  {
   "cell_type": "markdown",
   "metadata": {},
   "source": [
    "Because the influenya activity is reported on weekly basis, the weather data were also transformed to weekly means based for each calendar week (Kalenderwoche) denoted by its enddate (Sunday). "
   ]
  },
  {
   "cell_type": "code",
   "execution_count": null,
   "metadata": {},
   "outputs": [],
   "source": [
    "\n",
    "df_weather.head()\n"
   ]
  },
  {
   "cell_type": "code",
   "execution_count": null,
   "metadata": {},
   "outputs": [],
   "source": [
    "end_of_week=pd.date_range(start=pd.datetime(1954,6,6), end=pd.datetime(2017,1,1), freq='7D').tolist()\n",
    "df_weather=pd.DataFrame(index=end_of_week)\n",
    "\n",
    "df_weather['temperature in °C (weekly mean)']=df_weather_row.loc[:, ' TMK'].resample('W').mean()\n",
    "df_weather['rel.humidity in % (weekly mean)']=df_weather_row.loc[:, ' UPM'].resample('W').mean()\n",
    "\n",
    "df_weather.plot()"
   ]
  },
  {
   "cell_type": "markdown",
   "metadata": {},
   "source": [
    "Further, the deviations from long-term monthly mean temperature/humidity were calculated for each week. "
   ]
  },
  {
   "cell_type": "code",
   "execution_count": null,
   "metadata": {},
   "outputs": [],
   "source": [
    "df_monthly_mean=pd.DataFrame.groupby(df_weather_row.loc[:, [' TMK',' UPM']],by=[df_weather_row.index.month]).mean()\n",
    "df_monthly_mean=df_monthly_mean.rename(columns={' TMK': 'long-term monthly mean temperature',' UPM': 'long-term monthly mean rel.humidity'})\n",
    "df_monthly_mean"
   ]
  },
  {
   "cell_type": "code",
   "execution_count": null,
   "metadata": {},
   "outputs": [],
   "source": [
    "for i in range(1,13):\n",
    "    df_weather.loc[(df_weather_devFromMean.index.month==i,'temperature deviation from long-term mean')]=df_weather.loc[(df_weather.index.month==i),'temperature in °C (weekly mean)']-df_monthly_mean.loc[i,'long-term monthly mean temperature']\n",
    "    df_weather.loc[(df_weather_devFromMean.index.month==i,'rel.humidity deviation from long-term mean')]=df_weather.loc[(df_weather.index.month==i),'rel.humidity in % (weekly mean)']-df_monthly_mean.loc[i,'long-term monthly mean rel.humidity']\n",
    "df_weather.loc[datetime.datetime(2000,1,1):datetime.datetime(2016,1,1)].plot(subplots=True)"
   ]
  },
  {
   "cell_type": "code",
   "execution_count": null,
   "metadata": {},
   "outputs": [],
   "source": [
    "def crosscorr(datax, datay, lag=0):\n",
    "    return datax.corr(datay.shift(lag))   #pandas.Series.corr (Pearson correlation coefficient)\n",
    "\n",
    "timelag=range(-5,5,1)\n",
    "#timelag=0\n",
    "df_crosscorr_weather=pd.DataFrame(index=timelag)\n",
    "df_crosscorr_weather_summary=pd.DataFrame(index=['max', 'shift [w]'])\n",
    "\n",
    "for column in df_weather:\n",
    "    xcov_weekly = [crosscorr(df_RKI_states['Bavaria'],df_weather[column], lag=i) for i in timelag]\n",
    "    df_crosscorr_weather[column] = xcov_weekly\n",
    "    df_crosscorr_weather_summary[column]=[max(abs(xcov_weekly), timelag[xcov_weekly.index(max(abs(xcov_weekly))]]\n",
    " \n",
    "\n",
    "df_crosscorr_weather_summary"
   ]
  },
  {
   "cell_type": "code",
   "execution_count": null,
   "metadata": {},
   "outputs": [],
   "source": [
    "df_crosscorr_weather.reset_index().plot(x='index', y=['temperature in °C (weekly mean)', 'rel.humidity in % (weekly mean)', 'temperature deviation from long-term mean','rel.humidity deviation from long-term mean'])\n",
    "plt.xlabel('time lag [weeks]')\n",
    "plt.ylabel('crosscorrelation')\n",
    "plt.legend()\n",
    "plt.show()"
   ]
  },
  {
   "cell_type": "markdown",
   "metadata": {},
   "source": [
    "## Cross-correlation of influenza cases reported from European countries\n",
    "\n",
    "\n",
    "In the following, the cross-correlation of the influenza cases reported in Germany and in other European countries is investigated for different time-lags, that may indicate the delay of the flu wave between the countries. \n",
    "\n"
   ]
  },
  {
   "cell_type": "code",
   "execution_count": null,
   "metadata": {},
   "outputs": [],
   "source": [
    "#settings:\n",
    "\n",
    "#time lags (in weeks) for calculating the cross-correlation\n",
    "timelag=range(-5,10,1)\n",
    "\n",
    "#cutoff year (from which year the analysis should be done)\n",
    "cutoff=datetime.datetime(2008,1,1)\n",
    "df_inf_per_state=df_inf_per_state_full.loc[cutoff:]\n",
    "df_inf_per_state.head()"
   ]
  },
  {
   "cell_type": "code",
   "execution_count": null,
   "metadata": {},
   "outputs": [],
   "source": [
    "def crosscorr(datax, datay, lag=0):\n",
    "    return datax.corr(datay.shift(lag))   #pandas.Series.corr (Pearson correlation coefficient)\n",
    "\n",
    "df_crosscorr=pd.DataFrame(index=timelag)\n",
    "df_crosscorr_summary=pd.DataFrame(index=['max', 'shift [w]'])\n",
    "\n",
    "for column in df_inf_per_state:\n",
    "    xcov_weekly = [crosscorr(df_inf_per_state['Germany'],df_inf_per_state[column], lag=i) for i in timelag]\n",
    "    df_crosscorr[column] = xcov_weekly\n",
    "    df_crosscorr_summary[column]=[max(xcov_weekly), timelag[xcov_weekly.index(max(xcov_weekly))]]\n",
    " \n",
    "\n",
    "df_crosscorr_summary.loc[:,['Italy','Austria','UK', 'Switzerland','France', 'Spain', 'Poland', 'Netherlands', 'Sweden']]\n"
   ]
  },
  {
   "cell_type": "code",
   "execution_count": null,
   "metadata": {},
   "outputs": [],
   "source": [
    "\n",
    "#df_crosscorr.reset_index().plot(x='index', y=['France', 'UK', 'Poland'])\n",
    "#plt.xlabel('time lag [weeks]')\n",
    "#plt.ylabel('crosscorrelation')\n",
    "#plt.legend()\n",
    "#plt.show()\n"
   ]
  },
  {
   "cell_type": "code",
   "execution_count": null,
   "metadata": {},
   "outputs": [],
   "source": [
    "from datetime import timedelta\n",
    "\n",
    "countries=['France','Italy','UK','Poland']\n",
    "lag=0\n",
    "d=datetime.timedelta(weeks=lag)\n",
    "\n",
    "plt.subplot(221)\n",
    "plt.scatter(df_inf_per_state.loc[(df_inf_per_state.index.min()+d):,'Germany'], df_inf_per_state.loc[:(df_inf_per_state.index.max()-d),countries[0]])\n",
    "plt.title(countries[0])\n",
    "\n",
    "plt.subplot(222)\n",
    "plt.scatter(df_inf_per_state.loc[(df_inf_per_state.index.min()+d):,'Germany'], df_inf_per_state.loc[:(df_inf_per_state.index.max()-d),countries[1]])\n",
    "plt.title(countries[1])\n",
    "\n",
    "plt.subplot(223)\n",
    "plt.scatter(df_inf_per_state.loc[(df_inf_per_state.index.min()+d):,'Germany'], df_inf_per_state.loc[:(df_inf_per_state.index.max()-d),countries[2]])\n",
    "plt.title(countries[2])\n",
    "\n",
    "plt.subplot(224)\n",
    "plt.scatter(df_inf_per_state.loc[(df_inf_per_state.index.min()+d):,'Germany'], df_inf_per_state.loc[:(df_inf_per_state.index.max()-d),countries[3]])\n",
    "plt.title(countries[3])\n"
   ]
  },
  {
   "cell_type": "code",
   "execution_count": null,
   "metadata": {},
   "outputs": [],
   "source": [
    "import numpy as np\n",
    "from scipy import stats\n",
    "\n",
    "x=df_inf_per_state.index.values\n",
    "y=df_inf_per_state['Germany'].as_matrix()\n",
    "not_nan_ind = ~np.isnan(y)\n",
    "#m, b, r_val, p_val, std_err = stats.linregress(x[not_nan_ind],y[not_nan_ind])\n",
    "#detrend_y = y - (m*x + b)\n",
    "plt.plot(x,y)\n",
    "\n",
    "df_inf_per_state['Germany']"
   ]
  },
  {
   "cell_type": "code",
   "execution_count": null,
   "metadata": {},
   "outputs": [],
   "source": [
    "#detrending the data\n",
    "\n",
    "from scipy import signal\n",
    "\n",
    "df_inf_per_state_detr=pd.DataFrame()\n",
    "\n",
    "x=df_inf_per_state.index.values\n",
    "\n",
    "for column in df_inf_per_state:\n",
    "    #df_inf_per_state_detr[column] = signal.detrend(df_inf_per_state[column])\n",
    "    y=df_inf_per_state[column]\n",
    "    not_nan_ind = ~np.isnan(y)\n",
    "    m, b, r_val, p_val, std_err = stats.linregress(x[not_nan_ind],y[not_nan_ind])\n",
    "    detrend_y = y - (m*x + b)\n",
    "\n",
    "\n",
    "signal.detrend(x)"
   ]
  },
  {
   "cell_type": "markdown",
   "metadata": {},
   "source": [
    "## Cross-correlation of influenza cases reported from German states\n",
    "\n",
    "\n",
    "In the following, the cross-correlation of the influenza cases reported in Bavaria and in other states in Garmeny is investigated for different time-lags, that may indicate the delay of the flu wave between the states. \n"
   ]
  },
  {
   "cell_type": "code",
   "execution_count": null,
   "metadata": {},
   "outputs": [],
   "source": [
    "#settings:\n",
    "\n",
    "#time lags (in weeks) for calculating the cross-correlation\n",
    "timelag=range(-5,10,1)\n",
    "\n",
    "#cutoff year (from which year the analysis should be done)\n",
    "cutoff=datetime.datetime(2000,1,1)\n",
    "df_RKI_states=df_RKI_states.loc[cutoff:]\n",
    "df_RKI_states.head()\n"
   ]
  },
  {
   "cell_type": "code",
   "execution_count": null,
   "metadata": {},
   "outputs": [],
   "source": [
    "column"
   ]
  },
  {
   "cell_type": "code",
   "execution_count": null,
   "metadata": {},
   "outputs": [],
   "source": [
    "def crosscorr(datax, datay, lag=0):\n",
    "    return datax.corr(datay.shift(lag))   #pandas.Series.corr (Pearson correlation coefficient)\n",
    "\n",
    "\n",
    "df_crosscorrDE=pd.DataFrame(index=timelag)\n",
    "df_crosscorrDE_summary=pd.DataFrame(index=['max', 'shift [w]'])\n",
    "\n",
    "for column in df_RKI_states:\n",
    "    xcov_weekly = [crosscorr(df_RKI_states['Bavaria'],df_RKI_states[column], lag=i) for i in timelag]\n",
    "    df_crosscorrDE[column] = xcov_weekly\n",
    "    df_crosscorrDE_summary[column]=[max(xcov_weekly), timelag[xcov_weekly.index(max(xcov_weekly))]]\n",
    " \n",
    "\n",
    "df_crosscorrDE_summary"
   ]
  },
  {
   "cell_type": "code",
   "execution_count": null,
   "metadata": {},
   "outputs": [],
   "source": [
    "#plt.plot(timelag, df_crosscorr['France'])\n",
    "df_crosscorrDE.reset_index().plot(x='index', y=['Baden-Wuerttemberg', 'Berlin', 'Hessen'])\n",
    "plt.xlabel('time lag [weeks]')\n",
    "plt.ylabel('crosscorrelation')\n",
    "plt.legend()\n",
    "plt.show()"
   ]
  },
  {
   "cell_type": "code",
   "execution_count": null,
   "metadata": {},
   "outputs": [],
   "source": [
    "from datetime import timedelta\n",
    "\n",
    "countries=['Baden-Wuerttemberg', 'Berlin', 'Hessen','Bremen']\n",
    "lag=-1\n",
    "d=datetime.timedelta(weeks=lag)\n",
    "\n",
    "plt.subplot(221)\n",
    "plt.scatter(df_RKI_states.loc[(df_RKI_states.index.min()+d):,'Bavaria'], df_RKI_states.loc[:(df_RKI_states.index.max()-d),countries[0]])\n",
    "plt.title(countries[0])\n",
    "\n",
    "plt.subplot(222)\n",
    "plt.scatter(df_RKI_states.loc[(df_RKI_states.index.min()+d):,'Bavaria'], df_RKI_states.loc[:(df_RKI_states.index.max()-d),countries[1]])\n",
    "plt.title(countries[1])\n",
    "\n",
    "plt.subplot(223)\n",
    "plt.scatter(df_RKI_states.loc[(df_RKI_states.index.min()+d):,'Bavaria'], df_RKI_states.loc[:(df_RKI_states.index.max()-d),countries[2]])\n",
    "plt.title(countries[2])\n",
    "\n",
    "plt.subplot(224)\n",
    "plt.scatter(df_RKI_states.loc[(df_RKI_states.index.min()+d):,'Bavaria'], df_RKI_states.loc[:(df_RKI_states.index.max()-d),countries[3]])\n",
    "plt.title(countries[3])\n",
    " "
   ]
  },
  {
   "cell_type": "markdown",
   "metadata": {},
   "source": [
    "# Google trend data\n",
    "\n",
    "Google trend data is expected to give a good estimator of the current influenza situation in a country. It's quality for medium and long term are questionable. "
   ]
  },
  {
   "cell_type": "markdown",
   "metadata": {},
   "source": [
    "## Comparison Germany Bavaria (Saarland)\n",
    "\n",
    "The google trend timeseries (keyword Influenza) from Germany and Bavaria (and Saarland) are superimposed to check wether different characteristics regarding initiation time/magnitude etc. can be observed."
   ]
  },
  {
   "cell_type": "code",
   "execution_count": null,
   "metadata": {},
   "outputs": [],
   "source": [
    "# get data through the unofficial Google treds API (pytrends)\n",
    "import pandas as pd\n",
    "from pytrends.request import TrendReq\n",
    "pytrends = TrendReq(hl = 'en-US')\n",
    "\n",
    "kw_list = [\"Influenza\"]\n",
    "timeframe_idx = 'today 5-y' # weekly stats for last 5 years (all givels everyting starting from 2004 but at monthly resolution)\n",
    "cat_idx_Gesundheit = 45\n",
    "geo_idx = 'DE'\n",
    "geo_idxBY = 'DE-BY'\n",
    "geo_idxSL = 'DE-SL'\n",
    "\n",
    "pytrends.build_payload(kw_list,cat=cat_idx_Gesundheit,timeframe = timeframe_idx,geo = geo_idx)\n",
    "pf_googleTrends_Germany = pytrends.interest_over_time()\n",
    "pf_googleTrends_Germany.rename(columns={'Influenza':'Germany'})\n",
    "\n",
    "pytrends.build_payload(kw_list,cat=cat_idx_Gesundheit,timeframe = timeframe_idx,geo = geo_idxBY)\n",
    "pf_googleTrends_Bavaria = pytrends.interest_over_time()\n",
    "pf_googleTrends_Bavaria.rename(columns={'Influenza':'Bavaria'})\n",
    "\n",
    "pytrends.build_payload(kw_list,cat=cat_idx_Gesundheit,timeframe = timeframe_idx,geo = geo_idxSL)\n",
    "pf_googleTrends_Saarland = pytrends.interest_over_time()\n",
    "pf_googleTrends_Saarland.rename(columns={'Influenza':'Saarland'})\n",
    "\n",
    "pf_googleTrends_EU = pf_googleTrends_Germany\n",
    "pf_googleTrends_EU = pf_googleTrends_EU.rename(columns = {'Influenza':'Germany'})\n",
    "\n",
    "EUcountries = {'Belgium':'BE','Bulgaria':'BG','Czech Republic':'CZ','Denmark':'DK','Estonia':'EE','Ireland':'IE','Greece':'GR','Spain':'ES','France':'FR','Croatia':'HR','Italy':'IT','Cyprus':'CY','Latvia':'LV','Lithuania':'LT','Luxembourg':'LU','Hungary':'HU','Netherlands':'NL','Austria':'AT','Poland':'PL','Portugal':'PT','Romania':'RO','Slovenia':'SI','Slovakia':'SK','Finland':'FI','Sweden':'SE','UK':'GB'}#,'Malta':'MT'}\n",
    "Influenza_dictionary = {'Belgium':['Influenza'],'Bulgaria':['грип'],'Czech Republic':['chřipka'],'Denmark':['Influenza'],'Estonia':['gripp'],'Ireland':['influenza'],'Greece':['γρίπη'],'Spain':['influenza '],'France':['influenza '],'Croatia':['influenca'],'Italy':['influenza'],'Cyprus':['γρίπη'],'Latvia':'gripa','Lithuania':['gripą'],'Luxembourg':['influenza'],'Hungary':['influenza'],'Netherlands':['influenza'],'Austria':['Influenza'],'Poland':['grypa'],'Portugal':['influenza'],'Romania':['gripă'],'Slovenia':['gripe'],'Slovakia':['chrípka'],'Finland':['influenssa'],'Sweden':['influensa'],'UK':['influenza']}#,'Malta':['influwenza']}\n",
    "\n",
    "\n",
    "\n",
    "for country_key in EUcountries.keys():\n",
    "    print(country_key)\n",
    "    kw_list = Influenza_dictionary[country_key]\n",
    "    pytrends.build_payload(kw_list,cat=cat_idx_Gesundheit,timeframe = timeframe_idx,geo = EUcountries[country_key])\n",
    "    temp_df = pytrends.interest_over_time().drop('isPartial',axis =1)\n",
    "    temp_df = temp_df.rename(columns = {kw_list[0]:country_key})\n",
    "    pf_googleTrends_EU = pf_googleTrends_EU.join(temp_df,rsuffix = EUcountries[country_key])\n",
    "\n"
   ]
  },
  {
   "cell_type": "code",
   "execution_count": null,
   "metadata": {},
   "outputs": [],
   "source": [
    "pf_googleTrends_EU.tail(22)"
   ]
  },
  {
   "cell_type": "code",
   "execution_count": null,
   "metadata": {},
   "outputs": [],
   "source": [
    "fig = plt.figure()\n",
    "ax = pf_googleTrends_Germany.plot()\n",
    "pf_googleTrends_Bavaria.plot(ax = ax)\n",
    "pf_googleTrends_Saarland.plot(ax = ax)\n",
    "\n",
    "plt.title('Google index of influenza')\n",
    "plt.xlabel('date')\n",
    "plt.ylabel('google index')\n",
    "ax.legend(['Germany','Bavaria','Saarland'])\n",
    "\n",
    "\n",
    "\n"
   ]
  },
  {
   "cell_type": "markdown",
   "metadata": {},
   "source": [
    "## Autocorrelation Germany"
   ]
  },
  {
   "cell_type": "code",
   "execution_count": null,
   "metadata": {},
   "outputs": [],
   "source": [
    "from pandas.tools.plotting import autocorrelation_plot\n",
    "fig = plt.figure()\n",
    "autocorrelation_plot(pf_googleTrends_Germany['Influenza'])\n",
    "plt.xlabel('Lag [weeks]')\n",
    "plt.ylabel('autocorrelation')\n",
    "plt.xlim([0,60])"
   ]
  },
  {
   "cell_type": "markdown",
   "metadata": {},
   "source": [
    "## Cross-correlation of influenza cases reported from European countries with Google trend data"
   ]
  },
  {
   "cell_type": "code",
   "execution_count": null,
   "metadata": {},
   "outputs": [],
   "source": [
    "# get worldwide google Influenza trends \n",
    "# get data through the unofficial Google treds API (pytrends)\n"
   ]
  },
  {
   "cell_type": "code",
   "execution_count": null,
   "metadata": {},
   "outputs": [],
   "source": [
    "def crosscorr(datax, datay, lag=0):\n",
    "    return datax.corr(datay.shift(lag))   #pandas.Series.corr (Pearson correlation coefficient)\n",
    "\n",
    "\n",
    "timelag=range(-5,10,1)\n",
    "\n",
    "df_crosscorr_google=pd.DataFrame(index=timelag)\n",
    "df_crosscorr_google_summary=pd.DataFrame(index=['max', 'shift [w]'])\n",
    "\n",
    "for column in EUcountries.keys():\n",
    "    xcov_weekly = [crosscorr(pf_googleTrends_EU['Germany'],pf_googleTrends_EU[column], lag=i) for i in timelag]\n",
    "    df_crosscorr_google[column] = xcov_weekly\n",
    "    df_crosscorr_google_summary[column]=[max(xcov_weekly), timelag[xcov_weekly.index(max(xcov_weekly))]]\n",
    " \n",
    "\n",
    "df_crosscorr_google_summary.loc[:,['Italy','Austria','UK', 'Switzerland','France', 'Spain', 'Poland', 'Netherlands', 'Sweden']]#EUcountries.keys()]#]\n"
   ]
  },
  {
   "cell_type": "code",
   "execution_count": null,
   "metadata": {},
   "outputs": [],
   "source": [
    "df_crosscorr_google.reset_index().plot(x='index', y=['France', 'UK', 'Poland'])\n",
    "plt.xlabel('time lag [weeks]')\n",
    "plt.ylabel('crosscorrelation')\n",
    "plt.legend()\n",
    "plt.show()\n"
   ]
  },
  {
   "cell_type": "markdown",
   "metadata": {},
   "source": [
    "## Comparison of magnitude between different countries\n",
    "To use the data from other countries for prediction of the magnitude of the flu wave in Germany there needs to be a clear relationship between the magnitudes of the flu waves (here in terms of google search index) in the different countries."
   ]
  },
  {
   "cell_type": "code",
   "execution_count": null,
   "metadata": {},
   "outputs": [],
   "source": [
    "fig = plt.figure()\n",
    "\n",
    "countries = ['Germany','Italy','UK']#,'France','Poland']\n",
    "\n",
    "for country in countries:\n",
    "    ax_google = pf_googleTrends_EU[country].plot()\n",
    "    pf_googleTrends_EU[country].plot(ax = ax)\n",
    "\n",
    "\n",
    "plt.title('Google index of influenza')\n",
    "plt.xlabel('date')\n",
    "plt.ylabel('google index')\n",
    "ax_google.legend(countries)\n",
    "plt.xlim([datetime.date(year=2016,month=1,day=1),datetime.date.today()])\n",
    "\n",
    "\n",
    "\n"
   ]
  },
  {
   "cell_type": "markdown",
   "metadata": {},
   "source": [
    "# Heatmaps"
   ]
  },
  {
   "cell_type": "markdown",
   "metadata": {},
   "source": [
    "Heatmap created following: http://www.alexschultz.co.uk/weblog/2010/07/creating-country-level-heatmaps-in-python.html"
   ]
  },
  {
   "cell_type": "code",
   "execution_count": null,
   "metadata": {},
   "outputs": [],
   "source": [
    "os.getcwd()\n"
   ]
  },
  {
   "cell_type": "code",
   "execution_count": null,
   "metadata": {},
   "outputs": [],
   "source": [
    "from lxml import etree\n",
    "import os\n",
    "\n",
    "def show_flu_inEU_for_week_lxml(date): \n",
    "    # date is a datetime object\n",
    "    # soup a beatiful soup object\n",
    "    currnt_dir = os.getcwd()\n",
    "    os.chdir(currnt_dir)\n",
    "    svg = etree.parse('Blank_map_of_Europe_cropped.svg')\n",
    "    EUcountries = {'Belgium':'BE','Bulgaria':'BG','Czech Republic':'CZ','Denmark':'DK','Estonia':'EE','Ireland':'IE','Greece':'GR','Spain':'ES','France':'FR','Croatia':'HR','Italy':'IT','Cyprus':'CY','Latvia':'LV','Lithuania':'LT','Luxembourg':'LU','Hungary':'HU','Netherlands':'NL','Austria':'AT','Poland':'PL','Portugal':'PT','Romania':'RO','Slovenia':'SI','Slovakia':'SK','Finland':'FI','Sweden':'SE','UK':'GB'}#,'Malta':'MT'}\n",
    "    map_countryCode = {'lt-3': 'Lithuania', 'gb-gbn-5': 'UK', 'lv-1': 'Latvia', 'fi-5': 'Finland', 'sk-2': 'Slovakia', 'lu-7': 'Luxembourg', 'si-9': 'Slovenia', 'at-3': 'Austria', 'ie-5': 'Ireland', 'dk-9': 'Denmark', 'be-2': 'Belgium', 'gr-7': 'Greece', 'ee-8': 'Estonia', 'es-4': 'Spain', 'cz-1': 'Czech Republic', 'ro-1': 'Romania', 'hu-3': 'Hungary', 'nl-3': 'Netherlands', 'hr-2': 'Croatia', 'it-4': 'Italy', 'cy-6': 'Cyprus', 'fr-7': 'France', 'pt-0': 'Portugal', 'se-7': 'Sweden', 'de-2': 'Germany', 'bg-3': 'Bulgaria', 'pl-1': 'Poland'}#, 'mt-0': 'Malta'}\n",
    "#    map_countryCode = {'lt': 'Lithuania', 'gb': 'UK', 'lv': 'Latvia', 'fi': 'Finland', 'sk': 'Slovakia', 'lu': 'Luxembourg', 'si': 'Slovenia', 'at': 'Austria', 'ie': 'Ireland', 'dk': 'Denmark', 'be': 'Belgium', 'gr': 'Greece', 'va': 'Vatican', 'ee': 'Estonia', 'es': 'Spain', 'cz': 'Czech Republic', 'ro': 'Romania', 'mt': 'Malta', 'hu': 'Hungary', 'nl': 'Netherlands', 'hr': 'Croatia', 'it': 'Italy', 'cy': 'Cyprus', 'fr': 'France', 'pt': 'Portugal', 'se': 'Sweden', 'de': 'Germany', 'bg': 'Bulgaria', 'pl': 'Poland'}\n",
    "    \n",
    "    path_style =\"stroke:#ffffff;stroke-width:0.40082097;stroke-miterlimit:4;stroke-dasharray:none;fill:\" \n",
    "    #path_style = \"fill-opacity:1;stroke:#ffffff;stroke-width:0.5225144\" \n",
    "    colormap = [\"#c0c0c0\",\"#ffeda0\",\"#feb24c\",\"#f03b20\"]\n",
    "\n",
    "    pf_of_date = pf_googleTrends_EU.ix[date]\n",
    "    root = svg.getroot()\n",
    "    child_element = root.find('{http://www.w3.org/2000/svg}g')\n",
    "    # countries with multiple polygons\n",
    "    gs = child_element.findall('{http://www.w3.org/2000/svg}g')\n",
    "    \n",
    "    # countries without multiple polygons\n",
    "    paths = child_element.findall('{http://www.w3.org/2000/svg}path')\n",
    "    \n",
    "    for p in paths:\n",
    "        p_id = p.get('id')\n",
    "        \n",
    "        if p_id in map_countryCode.keys():\n",
    "            if pf_of_date[map_countryCode[p_id]] > 50:\n",
    "                color_class = 3\n",
    "            elif pf_of_date[map_countryCode[p_id]] > 10:\n",
    "                color_class = 2               \n",
    "            elif pf_of_date[map_countryCode[p_id]] > 1:\n",
    "                color_class = 1                  \n",
    "            else:\n",
    "                color_class = 0\n",
    "              \n",
    "            color = colormap[color_class]\n",
    "            p.set('style', path_style + color)\n",
    "            \n",
    "            \n",
    "            \n",
    "    for g in gs:\n",
    "        g_id = g.get('id')\n",
    "        if g_id in map_countryCode.keys():        \n",
    "            if pf_of_date[map_countryCode[g_id]] > 50:\n",
    "                color_class = 3\n",
    "            elif pf_of_date[map_countryCode[g_id]] > 10:\n",
    "                color_class = 2\n",
    "            elif pf_of_date[map_countryCode[g_id]] > 1:\n",
    "                color_class = 1\n",
    "            else:\n",
    "                color_class = 0\n",
    "            color = colormap[color_class]  \n",
    "            \n",
    "            for t in g.findall('{http://www.w3.org/2000/svg}path'):\n",
    "                t.set('style',path_style+color)\n",
    "            for g_3rdlevel in g.findall('{http://www.w3.org/2000/svg}g'):\n",
    "                for t2 in g_3rdlevel.findall('{http://www.w3.org/2000/svg}path'):\n",
    "                    t.set('style',path_style+color)\n",
    "                \n",
    "    # write everything to a file\n",
    "    f = svg.write('EU_flu_'+ date.strftime('%Y_%m_%d')+'.svg',pretty_print = True)            \n",
    "                        \n",
    "        "
   ]
  },
  {
   "cell_type": "code",
   "execution_count": null,
   "metadata": {},
   "outputs": [],
   "source": [
    "startdate = datetime.datetime.strptime('2017-07-30','%Y-%m-%d')\n",
    "time_steps = 12\n",
    "time_delta = 14 #days\n",
    "\n",
    "for i in xrange(0,time_steps):\n",
    "    date = startdate + timedelta(days= i*time_delta)\n",
    "    show_flu_inEU_for_week_lxml(date)\n"
   ]
  },
  {
   "cell_type": "code",
   "execution_count": null,
   "metadata": {},
   "outputs": [],
   "source": []
  },
  {
   "cell_type": "code",
   "execution_count": null,
   "metadata": {},
   "outputs": [],
   "source": []
  },
  {
   "cell_type": "markdown",
   "metadata": {},
   "source": [
    "new cell"
   ]
  },
  {
   "cell_type": "code",
   "execution_count": null,
   "metadata": {},
   "outputs": [],
   "source": []
  }
 ],
 "metadata": {
  "kernelspec": {
   "display_name": "Python 2",
   "language": "python",
   "name": "python2"
  },
  "language_info": {
   "codemirror_mode": {
    "name": "ipython",
    "version": 2
   },
   "file_extension": ".py",
   "mimetype": "text/x-python",
   "name": "python",
   "nbconvert_exporter": "python",
   "pygments_lexer": "ipython2",
   "version": "2.7.13"
  }
 },
 "nbformat": 4,
 "nbformat_minor": 2
}
